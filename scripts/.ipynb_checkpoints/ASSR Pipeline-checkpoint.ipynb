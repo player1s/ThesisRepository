{
 "cells": [
  {
   "cell_type": "code",
   "execution_count": 4,
   "metadata": {
    "collapsed": false,
    "jupyter": {
     "outputs_hidden": false
    }
   },
   "outputs": [
    {
     "name": "stdout",
     "output_type": "stream",
     "text": [
      "Warning: Cannot change to a different GUI toolkit: qt. Using qt5 instead.\n",
      "C:\\Users\\elpid\\Downloads\\thesis\\ThesisRepository\\scripts\n",
      "uniques [0. 1. 2.]\n",
      "Number of nonzero elements: 30\n",
      "Indices of nonzero elements: [  10.832   20.764   80.92    90.856  151.016  160.944  221.112  231.036\n",
      "  291.196  301.128  366.296  376.22   436.384  446.308  506.476  516.396\n",
      "  576.556  586.488  646.648  656.58   721.744  731.668  791.844  801.764\n",
      "  861.92   871.852  932.02   941.944 1002.108 1012.032]\n",
      "Creating RawArray with float64 data, n_channels=9, n_times=272970\n",
      "    Range : 0 ... 272969 =      0.000 ...  1091.876 secs\n",
      "Ready.\n",
      "Task: review data and select a consistently bad channel for exclusion.\n",
      "Using matplotlib as 2D backend.\n",
      "Effective window size : 1.024 (s)\n"
     ]
    }
   ],
   "source": [
    "%matplotlib qt\n",
    "import pyxdf\n",
    "import mne\n",
    "import numpy as np\n",
    "from mne.datasets import misc\n",
    "import os\n",
    "import matplotlib.pyplot as plt\n",
    "import matplotlib\n",
    "import time\n",
    "print(os.getcwd())\n",
    "\n",
    "fnames = [\"sub-elpida_ses-16_10_23_task-ASSR3_acq-ultracortex_run-001_eeg.xdf\"]\n",
    "raws = []\n",
    "for fnameIndex in range(len(fnames)): \n",
    "    streams, header = pyxdf.load_xdf(fnames[fnameIndex])\n",
    "    # get sampling rate\n",
    "    sfreq = float(streams[1][\"info\"][\"nominal_srate\"][0])\n",
    "\n",
    "    # get data\n",
    "    data = streams[1][\"time_series\"].T\n",
    "    dataTimestamps = streams[1][\"time_stamps\"].T\n",
    "    # get markers\n",
    "    markers = streams[0][\"time_series\"].T\n",
    "    markerTimestamps = streams[0][\"time_stamps\"].T\n",
    "\n",
    "    #in case of there is a switch between stim channel and data channels\n",
    "    if  data.shape[0] != 8:\n",
    "        data = streams[0][\"time_series\"].T\n",
    "        dataTimestamps = streams[0][\"time_stamps\"].T\n",
    "        sfreq = float(streams[0][\"info\"][\"nominal_srate\"][0])\n",
    "        markers = streams[1][\"time_series\"].T\n",
    "        markerTimestamps = streams[1][\"time_stamps\"].T\n",
    "        assert data.shape[0] == 8,  fnames[fnameIndex] + \" has different channel amounts\" # check that we have what we think we have (8 eeg channels)\n",
    "\n",
    "    \n",
    "\n",
    "    # get together the event channel with the data, make a \"stim 014\" type channel as annotation: time, duration, event type \n",
    "    # add markers: What needs to be done: we have markers as several events, and their timestamp. then, we have the data\n",
    "    # and their timestamps, to the raw object we should add one more channel, initially full of zeros with the length of the measurement\n",
    "    \n",
    "    \n",
    "    # This is because microvolts are being measured, but mne plot expects values in volts.\n",
    "    markers = markers[0]\n",
    "    data *= 1e-6 # uV -> V and preamp gain. IDK what will preamp gain do. (multiply / divide by gain? 24?)\n",
    "\n",
    "    markerArr = np.zeros_like(data[0])\n",
    "    \n",
    "    for markerid in range(len(markers)):\n",
    "        absolute_differences = np.abs(dataTimestamps - markerTimestamps[markerid])\n",
    "        closest_index = np.argmin(absolute_differences)\n",
    "        markerArr[closest_index] = markers[markerid]\n",
    "\n",
    "    # TEST: this gives the amount of events, and also their index. divided by the sampling freq, you should see the time differences of\n",
    "    #each part of the experiment. \n",
    "    nonzero_indices = np.nonzero(markerArr)\n",
    "    num_nonzero = len(nonzero_indices[0])\n",
    "    print(\"uniques\", np.unique(markerArr))\n",
    "    print(\"Number of nonzero elements:\", num_nonzero)\n",
    "    print(\"Indices of nonzero elements:\", nonzero_indices[0] / sfreq)\n",
    "\n",
    "    #add marker arr to data\n",
    "    combined = np.c_[data.T,markerArr].T\n",
    "\n",
    "    # create info object set channel names\n",
    "    info = mne.create_info([\"T6\", \"T4\", \"F8\", \"C4\", \"C3\", \"T5\", \"T3\", \"F7\", \"stim\"], sfreq, [\"eeg\", \"eeg\",\"eeg\", \"eeg\", \"eeg\", \"eeg\", \"eeg\", \"eeg\", \"stim\"])\n",
    "    raw = mne.io.RawArray(combined, info)\n",
    "    raw.set_montage(\"standard_1020\")\n",
    "\n",
    "    #preliminary data analyzis: (fancy term for plotting it and looking at it). Task: review data and select a consistently bad channel for exclusion\n",
    "    print(\"Task: review data and select a consistently bad channel for exclusion.\")\n",
    "    \n",
    "    raw.plot(title=fnames[fnameIndex] + \", Task: review data and select consistently bad channels\", duration=1)\n",
    "    raw.compute_psd().plot()\n",
    "    plt.title(fnames[fnameIndex])\n",
    "    plt.show()\n",
    "    raws.append((raw, fnames[fnameIndex]))"
   ]
  },
  {
   "cell_type": "code",
   "execution_count": 6,
   "metadata": {},
   "outputs": [
    {
     "name": "stdout",
     "output_type": "stream",
     "text": [
      "Filtering raw data in 1 contiguous segment\n",
      "Setting up band-pass filter from 0.1 - 50 Hz\n",
      "\n",
      "IIR filter parameters\n",
      "---------------------\n",
      "Butterworth bandpass zero-phase (two-pass forward and reverse) non-causal filter:\n",
      "- Filter order 16 (effective, after forward-backward)\n",
      "- Cutoffs at 0.10, 50.00 Hz: -6.02, -6.02 dB\n",
      "\n",
      "Setting up band-stop filter\n",
      "\n",
      "FIR filter parameters\n",
      "---------------------\n",
      "Designing a one-pass, zero-phase, non-causal bandstop filter:\n",
      "- Windowed time-domain design (firwin) method\n",
      "- Hamming window with 0.0194 passband ripple and 53 dB stopband attenuation\n",
      "- Lower transition bandwidth: 0.50 Hz\n",
      "- Upper transition bandwidth: 0.50 Hz\n",
      "- Filter length: 1651 samples (6.604 sec)\n",
      "\n",
      "30 events found\n",
      "Event IDs: [1 2]\n",
      "Not setting metadata\n",
      "15 matching events found\n",
      "Applying baseline correction (mode: mean)\n",
      "0 projection items activated\n",
      "Using data from preloaded Raw for 15 events and 17501 original time points ...\n",
      "    Rejecting  epoch based on EEG : ['T6', 'T4', 'F8', 'C4', 'C3', 'T5', 'T3', 'F7']\n",
      "    Rejecting  epoch based on EEG : ['T6', 'T4', 'F8', 'C3', 'T5', 'T3', 'F7']\n",
      "    Rejecting  epoch based on EEG : ['T6', 'T4', 'F8', 'C4', 'C3', 'T5', 'T3', 'F7']\n",
      "    Rejecting  epoch based on EEG : ['T3', 'F7']\n",
      "    Rejecting  epoch based on EEG : ['T6', 'T4', 'F8', 'C4', 'C3', 'T5', 'T3', 'F7']\n",
      "    Rejecting  epoch based on EEG : ['T6', 'T4', 'F8', 'C4', 'C3', 'T5', 'T3', 'F7']\n",
      "    Rejecting  epoch based on EEG : ['T3']\n",
      "    Rejecting  epoch based on EEG : ['T6', 'T4', 'F8', 'C4', 'C3', 'T5', 'T3', 'F7']\n",
      "    Rejecting  epoch based on EEG : ['T6', 'T4', 'F8', 'C4', 'C3', 'T5', 'T3', 'F7']\n",
      "    Rejecting  epoch based on EEG : ['T6', 'T4', 'F8', 'C4', 'C3', 'T5', 'T3', 'F7']\n",
      "    Rejecting  epoch based on EEG : ['T6', 'T4', 'F8', 'C4', 'C3', 'T5', 'T3', 'F7']\n",
      "    Rejecting  epoch based on EEG : ['T6', 'T4', 'F8', 'C4', 'C3', 'T5', 'T3', 'F7']\n",
      "    Rejecting  epoch based on EEG : ['T6', 'T4', 'F8', 'C4', 'C3', 'T5', 'T3', 'F7']\n",
      "13 bad epochs dropped\n"
     ]
    },
    {
     "name": "stderr",
     "output_type": "stream",
     "text": [
      "Traceback (most recent call last):\n",
      "  File \"C:\\Users\\elpid\\AppData\\Local\\Programs\\Python\\Python39\\lib\\site-packages\\matplotlib\\cbook\\__init__.py\", line 287, in process\n",
      "    func(*args, **kwargs)\n",
      "  File \"C:\\Users\\elpid\\AppData\\Local\\Programs\\Python\\Python39\\lib\\site-packages\\mne\\viz\\_mpl_figure.py\", line 533, in _resize\n",
      "    old_width, old_height = self.mne.fig_size_px\n",
      "AttributeError: 'BrowserParams' object has no attribute 'fig_size_px'\n"
     ]
    },
    {
     "name": "stdout",
     "output_type": "stream",
     "text": [
      "    Using multitaper spectrum estimation with 7 DPSS windows\n",
      "Averaging across epochs...\n"
     ]
    },
    {
     "name": "stderr",
     "output_type": "stream",
     "text": [
      "Traceback (most recent call last):\n",
      "  File \"C:\\Users\\elpid\\AppData\\Local\\Programs\\Python\\Python39\\lib\\site-packages\\matplotlib\\backends\\backend_qt.py\", line 455, in _draw_idle\n",
      "    self.draw()\n",
      "  File \"C:\\Users\\elpid\\AppData\\Local\\Programs\\Python\\Python39\\lib\\site-packages\\matplotlib\\backends\\backend_agg.py\", line 436, in draw\n",
      "    self.figure.draw(self.renderer)\n",
      "  File \"C:\\Users\\elpid\\AppData\\Local\\Programs\\Python\\Python39\\lib\\site-packages\\matplotlib\\artist.py\", line 73, in draw_wrapper\n",
      "    result = draw(artist, renderer, *args, **kwargs)\n",
      "  File \"C:\\Users\\elpid\\AppData\\Local\\Programs\\Python\\Python39\\lib\\site-packages\\matplotlib\\artist.py\", line 50, in draw_wrapper\n",
      "    return draw(artist, renderer)\n",
      "  File \"C:\\Users\\elpid\\AppData\\Local\\Programs\\Python\\Python39\\lib\\site-packages\\matplotlib\\figure.py\", line 2810, in draw\n",
      "    mimage._draw_list_compositing_images(\n",
      "  File \"C:\\Users\\elpid\\AppData\\Local\\Programs\\Python\\Python39\\lib\\site-packages\\matplotlib\\image.py\", line 132, in _draw_list_compositing_images\n",
      "    a.draw(renderer)\n",
      "  File \"C:\\Users\\elpid\\AppData\\Local\\Programs\\Python\\Python39\\lib\\site-packages\\matplotlib\\artist.py\", line 50, in draw_wrapper\n",
      "    return draw(artist, renderer)\n",
      "  File \"C:\\Users\\elpid\\AppData\\Local\\Programs\\Python\\Python39\\lib\\site-packages\\matplotlib\\axes\\_base.py\", line 3046, in draw\n",
      "    self._update_title_position(renderer)\n",
      "  File \"C:\\Users\\elpid\\AppData\\Local\\Programs\\Python\\Python39\\lib\\site-packages\\matplotlib\\axes\\_base.py\", line 2986, in _update_title_position\n",
      "    bb = ax.xaxis.get_tightbbox(renderer)\n",
      "  File \"C:\\Users\\elpid\\AppData\\Local\\Programs\\Python\\Python39\\lib\\site-packages\\matplotlib\\axis.py\", line 1103, in get_tightbbox\n",
      "    ticks_to_draw = self._update_ticks()\n",
      "  File \"C:\\Users\\elpid\\AppData\\Local\\Programs\\Python\\Python39\\lib\\site-packages\\matplotlib\\axis.py\", line 1054, in _update_ticks\n",
      "    minor_labels = self.minor.formatter.format_ticks(minor_locs)\n",
      "  File \"C:\\Users\\elpid\\AppData\\Local\\Programs\\Python\\Python39\\lib\\site-packages\\matplotlib\\ticker.py\", line 224, in format_ticks\n",
      "    return [self(value, i) for i, value in enumerate(values)]\n",
      "  File \"C:\\Users\\elpid\\AppData\\Local\\Programs\\Python\\Python39\\lib\\site-packages\\matplotlib\\ticker.py\", line 224, in <listcomp>\n",
      "    return [self(value, i) for i, value in enumerate(values)]\n",
      "  File \"C:\\Users\\elpid\\AppData\\Local\\Programs\\Python\\Python39\\lib\\site-packages\\matplotlib\\ticker.py\", line 331, in __call__\n",
      "    return self.func(x, pos)\n",
      "  File \"C:\\Users\\elpid\\AppData\\Local\\Programs\\Python\\Python39\\lib\\site-packages\\mne\\viz\\_mpl_figure.py\", line 428, in <lambda>\n",
      "    FuncFormatter(lambda x, pos: self._get_epoch_num_from_time(x)))\n",
      "  File \"C:\\Users\\elpid\\AppData\\Local\\Programs\\Python\\Python39\\lib\\site-packages\\mne\\viz\\_figure.py\", line 385, in _get_epoch_num_from_time\n",
      "    return epoch_nums[np.searchsorted(self.mne.boundary_times[1:], time)]\n",
      "IndexError: index 0 is out of bounds for axis 0 with size 0\n"
     ]
    },
    {
     "name": "stdout",
     "output_type": "stream",
     "text": [
      "Dropped 0 epochs: \n",
      "The following epochs were marked as bad and are dropped:\n",
      "[]\n",
      "Channels marked as bad:\n",
      "none\n",
      "Dropped 0 epochs: \n",
      "The following epochs were marked as bad and are dropped:\n",
      "[]\n",
      "Channels marked as bad:\n",
      "none\n"
     ]
    }
   ],
   "source": [
    "epochs = []\n",
    "for rawpack in raws: \n",
    "    raw = rawpack[0]\n",
    "    fname = rawpack[1]\n",
    "    low_cut = 0.1\n",
    "    high_cut = 50\n",
    "    filtered_data = raw.copy().filter(low_cut,high_cut,method='iir')\n",
    "    notch_freqs = [50, 100]\n",
    "    filtered_data = filtered_data.notch_filter(freqs=notch_freqs, filter_length='auto', method='fir', notch_widths=4, picks=\"eeg\")\n",
    "\n",
    "    #get events    \n",
    "    events = mne.find_events(filtered_data, stim_channel=\"stim\")\n",
    "    #events: 1: start rest, 2: start assr, 3: artifact\n",
    "    #setup values above which you reject (peak to peak)\n",
    "    reject_criteria = dict(eeg=2000e-6)\n",
    "\n",
    "    #set flat criteria (epochs where nothing happens really (min peak to peak))\n",
    "    flat_criteria = dict(eeg=1e-6)\n",
    "\n",
    "    #make epochs\n",
    "    stimEpochs = mne.Epochs(filtered_data, events, event_id=2, tmin=-10, tmax=60, baseline=(-10, 0), preload=True, reject=reject_criteria, flat=flat_criteria)\n",
    "    stimEpochs.plot_drop_log()\n",
    "    epochs.append((stimEpochs, fnames[fnameIndex]))\n",
    "\n",
    "    stimEpochs.plot(title=fname+\"filtered\")\n",
    "    stimEpochs.compute_psd().plot()\n",
    "    plt.title(fname)\n",
    "    plt.show()"
   ]
  },
  {
   "cell_type": "code",
   "execution_count": 12,
   "metadata": {},
   "outputs": [
    {
     "name": "stdout",
     "output_type": "stream",
     "text": [
      "Setting up band-pass filter from 0.1 - 50 Hz\n",
      "\n",
      "IIR filter parameters\n",
      "---------------------\n",
      "Butterworth bandpass zero-phase (two-pass forward and reverse) non-causal filter:\n",
      "- Filter order 16 (effective, after forward-backward)\n",
      "- Cutoffs at 0.10, 50.00 Hz: -6.02, -6.02 dB\n",
      "\n"
     ]
    },
    {
     "data": {
      "image/png": "[encoded data removed]",
      "text/plain": [
       "<Figure size 640x480 with 3 Axes>"
      ]
     },
     "execution_count": 12,
     "metadata": {},
     "output_type": "execute_result"
    }
   ],
   "source": [
    "\n",
    "filter_params = mne.filter.create_filter(raw.get_data(),raw.info['sfreq'],l_freq=0.1,h_freq=50,method='iir')\n",
    "mne.viz.plot_filter(filter_params,raw.info['sfreq'],flim=(0.01,150))"
   ]
  },
  {
   "cell_type": "code",
   "execution_count": null,
   "metadata": {},
   "outputs": [],
   "source": []
  }
 ],
 "metadata": {
  "kernelspec": {
   "display_name": "Python 3 (Spyder)",
   "language": "python3",
   "name": "python3"
  },
  "language_info": {
   "codemirror_mode": {
    "name": "ipython",
    "version": 3
   },
   "file_extension": ".py",
   "mimetype": "text/x-python",
   "name": "python",
   "nbconvert_exporter": "python",
   "pygments_lexer": "ipython3",
   "version": "3.9.6"
  }
 },
 "nbformat": 4,
 "nbformat_minor": 4
}
