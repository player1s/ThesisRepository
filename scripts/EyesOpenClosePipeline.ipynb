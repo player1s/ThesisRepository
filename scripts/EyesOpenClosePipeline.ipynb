{
 "cells": [
  {
   "cell_type": "code",
   "execution_count": 5,
   "metadata": {
    "collapsed": false,
    "jupyter": {
     "outputs_hidden": false
    }
   },
   "outputs": [
    {
     "name": "stdout",
     "output_type": "stream",
     "text": [
      "Warning: Cannot change to a different GUI toolkit: qt. Using qt5 instead.\n",
      "C:\\Users\\elpid\\Downloads\\thesis\\ThesisRepository\\scripts\n",
      "uniques [0. 1.]\n",
      "Number of nonzero elements: 5\n",
      "Indices of nonzero elements: [ 11.412 132.532 253.692 374.844 495.984]\n",
      "Creating RawArray with float64 data, n_channels=9, n_times=155564\n",
      "    Range : 0 ... 155563 =      0.000 ...   622.252 secs\n",
      "Ready.\n",
      "Task: review data and select a consistently bad channel for exclusion.\n",
      "Effective window size : 1.024 (s)\n"
     ]
    },
    {
     "name": "stderr",
     "output_type": "stream",
     "text": [
      "C:\\Users\\elpid\\AppData\\Local\\Temp\\ipykernel_7264\\2253892762.py:75: UserWarning: Zero value in spectrum for channels C4, F7\n",
      "  raw.compute_psd().plot()\n",
      "C:\\Users\\elpid\\AppData\\Local\\Temp\\ipykernel_7264\\2253892762.py:75: UserWarning: Infinite value in PSD for channels C4, F7.\n",
      "These channels might be dead.\n",
      "  raw.compute_psd().plot()\n"
     ]
    },
    {
     "name": "stdout",
     "output_type": "stream",
     "text": [
      "Channels marked as bad:\n",
      "['F7', 'C4']\n"
     ]
    }
   ],
   "source": [
    "%matplotlib qt\n",
    "import pyxdf\n",
    "import mne\n",
    "import numpy as np\n",
    "from mne.datasets import misc\n",
    "import os\n",
    "import matplotlib.pyplot as plt\n",
    "import matplotlib\n",
    "import time\n",
    "print(os.getcwd())\n",
    "\n",
    "fnames = [\"C:/Users/elpid/OneDrive/Υπολογιστής/shielded_27_10_23/elpida/sub-elpida_ses-27_10_23_task-blinking_acq-shielded_hugin04_dots_run-001_eeg.xdf\"]\n",
    "# sub-LeviGN_ses-S001_task-DefaultEyes_acq-huginn4_run-001_eeg\n",
    "raws = []\n",
    "dataTimestamps = 0\n",
    "for fnameIndex in range(len(fnames)): \n",
    "    streams, header = pyxdf.load_xdf(fnames[fnameIndex])\n",
    "    # get sampling rate\n",
    "    sfreq = float(streams[1][\"info\"][\"nominal_srate\"][0])\n",
    "\n",
    "    # get data\n",
    "    data = streams[1][\"time_series\"].T\n",
    "    dataTimestamps = streams[1][\"time_stamps\"].T\n",
    "    # get markers\n",
    "    markers = streams[0][\"time_series\"].T\n",
    "    markerTimestamps = streams[0][\"time_stamps\"].T\n",
    "\n",
    "    #in case of there is a switch between stim channel and data channels\n",
    "    if  data.shape[0] != 8:\n",
    "        data = streams[0][\"time_series\"].T\n",
    "        dataTimestamps = streams[0][\"time_stamps\"].T\n",
    "        sfreq = float(streams[0][\"info\"][\"nominal_srate\"][0])\n",
    "        markers = streams[1][\"time_series\"].T\n",
    "        markerTimestamps = streams[1][\"time_stamps\"].T\n",
    "        assert data.shape[0] == 8,  fnames[fnameIndex] + \" has different channel amounts\" # check that we have what we think we have (8 eeg channels)\n",
    "\n",
    "    \n",
    "\n",
    "    # get together the event channel with the data, make a \"stim 014\" type channel as annotation: time, duration, event type \n",
    "    # add markers: What needs to be done: we have markers as several events, and their timestamp. then, we have the data\n",
    "    # and their timestamps, to the raw object we should add one more channel, initially full of zeros with the length of the measurement\n",
    "    \n",
    "    \n",
    "    # This is because microvolts are being measured, but mne plot expects values in volts.\n",
    "    markers = markers[0]\n",
    "    data *= 1e-6 # uV -> V and preamp gain. IDK what will preamp gain do. (multiply / divide by gain? 24?)\n",
    "\n",
    "    markerArr = np.zeros_like(data[0])\n",
    "    \n",
    "    for markerid in range(len(markers)):\n",
    "        absolute_differences = np.abs(dataTimestamps - markerTimestamps[markerid])\n",
    "        closest_index = np.argmin(absolute_differences)\n",
    "        markerArr[closest_index] = markers[markerid]\n",
    "\n",
    "    # TEST: this gives the amount of events, and also their index. divided by the sampling freq, you should see the time differences of\n",
    "    #each part of the experiment. \n",
    "    nonzero_indices = np.nonzero(markerArr)\n",
    "    num_nonzero = len(nonzero_indices[0])\n",
    "    print(\"uniques\", np.unique(markerArr))\n",
    "    print(\"Number of nonzero elements:\", num_nonzero)\n",
    "    print(\"Indices of nonzero elements:\", nonzero_indices[0] / sfreq)\n",
    "\n",
    "    #add marker arr to data\n",
    "    combined = np.c_[data.T,markerArr].T\n",
    "\n",
    "    # create info object set channel names\n",
    "    info = mne.create_info([\"T6\", \"T4\", \"F8\", \"C4\", \"C3\", \"T5\", \"T3\", \"F7\", \"stim\"], sfreq, [\"eeg\", \"eeg\",\"eeg\", \"eeg\", \"eeg\", \"eeg\", \"eeg\", \"eeg\", \"stim\"])\n",
    "    raw = mne.io.RawArray(combined, info)\n",
    "    raw.set_montage(\"standard_1020\")\n",
    "\n",
    "    #preliminary data analyzis: (fancy term for plotting it and looking at it). Task: review data and select a consistently bad channel for exclusion\n",
    "    print(\"Task: review data and select a consistently bad channel for exclusion.\")\n",
    "    \n",
    "    raw.plot(title=fnames[fnameIndex] + \", Task: review data and select consistently bad channels\", duration=1)\n",
    "    raw.compute_psd().plot()\n",
    "    plt.title(fnames[fnameIndex])\n",
    "    plt.show()\n",
    "    raws.append((raw, fnames[fnameIndex]))"
   ]
  },
  {
   "cell_type": "code",
   "execution_count": 6,
   "metadata": {},
   "outputs": [
    {
     "name": "stdout",
     "output_type": "stream",
     "text": [
      "Filtering raw data in 1 contiguous segment\n",
      "Setting up band-pass filter from 0.1 - 50 Hz\n",
      "\n",
      "IIR filter parameters\n",
      "---------------------\n",
      "Butterworth bandpass zero-phase (two-pass forward and reverse) non-causal filter:\n",
      "- Filter order 16 (effective, after forward-backward)\n",
      "- Cutoffs at 0.10, 50.00 Hz: -6.02, -6.02 dB\n",
      "\n",
      "Setting up band-stop filter\n",
      "\n",
      "FIR filter parameters\n",
      "---------------------\n",
      "Designing a one-pass, zero-phase, non-causal bandstop filter:\n",
      "- Windowed time-domain design (firwin) method\n",
      "- Hamming window with 0.0194 passband ripple and 53 dB stopband attenuation\n",
      "- Lower transition bandwidth: 0.50 Hz\n",
      "- Upper transition bandwidth: 0.50 Hz\n",
      "- Filter length: 1651 samples (6.604 sec)\n",
      "\n",
      "5 events found\n",
      "Event IDs: [1]\n",
      "Not setting metadata\n",
      "5 matching events found\n",
      "Applying baseline correction (mode: mean)\n",
      "0 projection items activated\n",
      "Using data from preloaded Raw for 5 events and 15001 original time points ...\n",
      "0 bad epochs dropped\n",
      "    Using multitaper spectrum estimation with 7 DPSS windows\n",
      "Averaging across epochs...\n",
      "Not setting metadata\n",
      "5 matching events found\n",
      "Applying baseline correction (mode: mean)\n",
      "0 projection items activated\n",
      "Using data from preloaded Raw for 5 events and 15001 original time points ...\n",
      "0 bad epochs dropped\n",
      "    Using multitaper spectrum estimation with 7 DPSS windows\n",
      "Averaging across epochs...\n"
     ]
    }
   ],
   "source": [
    "epochs = []\n",
    "for rawpack in raws: \n",
    "    raw = rawpack[0]\n",
    "    fname = rawpack[1]\n",
    "    low_cut = 0.1\n",
    "    high_cut = 50\n",
    "    filtered_data = raw.copy().filter(low_cut,high_cut,method='iir')\n",
    "    notch_freqs = [50, 100]\n",
    "    filtered_data = filtered_data.notch_filter(freqs=notch_freqs, filter_length='auto', method='fir', notch_widths=4, picks=\"eeg\")\n",
    "\n",
    "    #get events    \n",
    "    events = mne.find_events(filtered_data, stim_channel=\"stim\")\n",
    "    #events: 1: start \n",
    "    #open close experiment: event at 0s, open at 0 - 60s, closed at 60 - 120s\n",
    "    #setup values above which you reject (peak to peak)\n",
    "    reject_criteria = dict(eeg=200e-6)\n",
    "\n",
    "    #set flat criteria (epochs where nothing happens really (min peak to peak))\n",
    "    flat_criteria = dict(eeg=1e-6)\n",
    "\n",
    "    #make epochs: eyes open\n",
    "    stimEpochs = mne.Epochs(filtered_data, events, event_id=1, tmin=0, tmax=60, baseline=(0, 0), preload=True, reject=reject_criteria, flat=flat_criteria)\n",
    "\n",
    "    #stimEpochs.plot_drop_log()\n",
    "    #stimEpochs.plot(title=fname+\"filtered\")\n",
    "    #epochs.append((stimEpochs, fnames[fnameIndex]))\n",
    "    stimEpochs.compute_psd().plot()\n",
    "    plt.title(\"Open \" + fname)\n",
    "    plt.show()\n",
    "\n",
    "    stimEpochs = mne.Epochs(filtered_data, events, event_id=1, tmin=60, tmax=120, baseline=(60, 60), preload=True, reject=reject_criteria, flat=flat_criteria)\n",
    "    stimEpochs.compute_psd().plot()\n",
    "    plt.title(\"Closed \" + fname)\n",
    "    plt.show()\n",
    "    \n",
    "    \n",
    "    "
   ]
  },
  {
   "cell_type": "code",
   "execution_count": 7,
   "metadata": {},
   "outputs": [
    {
     "name": "stdout",
     "output_type": "stream",
     "text": [
      "number:  155563 ratio:  0.9999935717775321\n"
     ]
    }
   ],
   "source": [
    "from datetime import datetime, timedelta\n",
    "\n",
    "def count_occasions_outside_timeframe(timestamps, timeframe_seconds):\n",
    "    # Initialize the counter to zero\n",
    "    count = 0\n",
    "    \n",
    "    # Convert timeframe_seconds to a timedelta object for comparison\n",
    "    #timeframe = timedelta(seconds=timeframe_seconds)\n",
    "    \n",
    "    # Iterate through the array up to the second-to-last timestamp\n",
    "    for i in range(len(timestamps) - 1):\n",
    "        current_timestamp = timestamps[i]\n",
    "        next_timestamp = timestamps[i + 1]\n",
    "        \n",
    "        # Calculate the time difference between current and next timestamps\n",
    "        time_diff = next_timestamp - current_timestamp\n",
    "        \n",
    "        # Compare with the specified timeframe\n",
    "        if time_diff < timeframe_seconds:\n",
    "            count += 1\n",
    "    \n",
    "    return count\n",
    "\n",
    "num = count_occasions_outside_timeframe(dataTimestamps, 0.003999)\n",
    "print(\"number: \", num, \"ratio: \", num/len(dataTimestamps))"
   ]
  },
  {
   "cell_type": "code",
   "execution_count": 8,
   "metadata": {},
   "outputs": [],
   "source": [
    "np.diff(dataTimestamps).mean()\n",
    "import matplotlib.pyplot as plt\n",
    "plt.plot(np.arange(0,len(dataTimestamps)-1,1),np.diff(dataTimestamps))\n",
    "plt.show()\n"
   ]
  },
  {
   "cell_type": "code",
   "execution_count": 9,
   "metadata": {},
   "outputs": [
    {
     "data": {
      "text/plain": [
       "array([0.00399519, 0.00399519, 0.00399519, ..., 0.00399519, 0.00399519,\n",
       "       0.00399519])"
      ]
     },
     "execution_count": 9,
     "metadata": {},
     "output_type": "execute_result"
    }
   ],
   "source": [
    "np.diff(dataTimestamps)"
   ]
  },
  {
   "cell_type": "code",
   "execution_count": null,
   "metadata": {},
   "outputs": [],
   "source": []
  }
 ],
 "metadata": {
  "kernelspec": {
   "display_name": "Python 3 (Spyder)",
   "language": "python3",
   "name": "python3"
  },
  "language_info": {
   "codemirror_mode": {
    "name": "ipython",
    "version": 3
   },
   "file_extension": ".py",
   "mimetype": "text/x-python",
   "name": "python",
   "nbconvert_exporter": "python",
   "pygments_lexer": "ipython3",
   "version": "3.9.6"
  }
 },
 "nbformat": 4,
 "nbformat_minor": 4
}
