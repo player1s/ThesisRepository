{
 "cells": [
  {
   "cell_type": "code",
   "execution_count": 11,
   "metadata": {
    "collapsed": false,
    "jupyter": {
     "outputs_hidden": false
    }
   },
   "outputs": [
    {
     "name": "stdout",
     "output_type": "stream",
     "text": [
      "Warning: Cannot change to a different GUI toolkit: qt. Using qt5 instead.\n",
      "C:\\Users\\elpid\\Downloads\\thesis\\ThesisRepository\\scripts\n",
      "uniques [0. 1. 2.]\n",
      "Number of nonzero elements: 20\n",
      "Indices of nonzero elements: [ 68.804  98.74  128.916 158.804 188.968 218.868 249.024 278.932 309.092\n",
      " 339.008 374.152 404.076 434.22  464.14  494.288 524.204 554.352 584.268\n",
      " 614.412 644.348]\n",
      "Creating RawArray with float64 data, n_channels=9, n_times=182830\n",
      "    Range : 0 ... 182829 =      0.000 ...   731.316 secs\n",
      "Ready.\n",
      "Task: review data and select a consistently bad channel for exclusion.\n",
      "Effective window size : 1.024 (s)\n"
     ]
    },
    {
     "name": "stderr",
     "output_type": "stream",
     "text": [
      "C:\\Users\\elpid\\AppData\\Local\\Temp\\ipykernel_14472\\773377417.py:73: UserWarning: Zero value in spectrum for channel C4\n",
      "  raw.compute_psd().plot()\n",
      "C:\\Users\\elpid\\AppData\\Local\\Temp\\ipykernel_14472\\773377417.py:73: UserWarning: Infinite value in PSD for channel C4.\n",
      "These channels might be dead.\n",
      "  raw.compute_psd().plot()\n"
     ]
    },
    {
     "name": "stdout",
     "output_type": "stream",
     "text": [
      "Channels marked as bad:\n",
      "['C4', 'F8', 'F7']\n"
     ]
    }
   ],
   "source": [
    "%matplotlib qt\n",
    "import pyxdf\n",
    "import mne\n",
    "import numpy as np\n",
    "from mne.datasets import misc\n",
    "import os\n",
    "import matplotlib.pyplot as plt\n",
    "import matplotlib\n",
    "import time\n",
    "print(os.getcwd())\n",
    "\n",
    "fnames = [\"C:/Users/elpid/Downloads/elpida/sub-elpida/ses-16_11_23/eeg/sub-elpida_ses-16_11_23_task-assr_acq-hugin_shielded_run-002_eeg.xdf\"]\n",
    "raws = []\n",
    "for fnameIndex in range(len(fnames)): \n",
    "    streams, header = pyxdf.load_xdf(fnames[fnameIndex])\n",
    "    # get sampling rate\n",
    "    sfreq = float(streams[1][\"info\"][\"nominal_srate\"][0])\n",
    "\n",
    "    # get data\n",
    "    data = streams[1][\"time_series\"].T\n",
    "    dataTimestamps = streams[1][\"time_stamps\"].T\n",
    "    # get markers\n",
    "    markers = streams[0][\"time_series\"].T\n",
    "    markerTimestamps = streams[0][\"time_stamps\"].T\n",
    "\n",
    "    #in case of there is a switch between stim channel and data channels\n",
    "    if  data.shape[0] != 8:\n",
    "        data = streams[0][\"time_series\"].T\n",
    "        dataTimestamps = streams[0][\"time_stamps\"].T\n",
    "        sfreq = float(streams[0][\"info\"][\"nominal_srate\"][0])\n",
    "        markers = streams[1][\"time_series\"].T\n",
    "        markerTimestamps = streams[1][\"time_stamps\"].T\n",
    "        assert data.shape[0] == 8,  fnames[fnameIndex] + \" has different channel amounts\" # check that we have what we think we have (8 eeg channels)\n",
    "\n",
    "    \n",
    "\n",
    "    # get together the event channel with the data, make a \"stim 014\" type channel as annotation: time, duration, event type \n",
    "    # add markers: What needs to be done: we have markers as several events, and their timestamp. then, we have the data\n",
    "    # and their timestamps, to the raw object we should add one more channel, initially full of zeros with the length of the measurement\n",
    "    \n",
    "    \n",
    "    # This is because microvolts are being measured, but mne plot expects values in volts.\n",
    "    markers = markers[0]\n",
    "    data *= 1e-6 # uV -> V and preamp gain. IDK what will preamp gain do. (multiply / divide by gain? 24?)\n",
    "\n",
    "    markerArr = np.zeros_like(data[0])\n",
    "    \n",
    "    for markerid in range(len(markers)):\n",
    "        absolute_differences = np.abs(dataTimestamps - markerTimestamps[markerid])\n",
    "        closest_index = np.argmin(absolute_differences)\n",
    "        markerArr[closest_index] = markers[markerid]\n",
    "\n",
    "    # TEST: this gives the amount of events, and also their index. divided by the sampling freq, you should see the time differences of\n",
    "    #each part of the experiment. \n",
    "    nonzero_indices = np.nonzero(markerArr)\n",
    "    num_nonzero = len(nonzero_indices[0])\n",
    "    print(\"uniques\", np.unique(markerArr))\n",
    "    print(\"Number of nonzero elements:\", num_nonzero)\n",
    "    print(\"Indices of nonzero elements:\", nonzero_indices[0] / sfreq)\n",
    "\n",
    "    #add marker arr to data\n",
    "    combined = np.c_[data.T,markerArr].T\n",
    "\n",
    "    # create info object set channel names\n",
    "    info = mne.create_info([\"T6\", \"T4\", \"F8\", \"C4\", \"C3\", \"T5\", \"T3\", \"F7\", \"stim\"], sfreq, [\"eeg\", \"eeg\",\"eeg\", \"eeg\", \"eeg\", \"eeg\", \"eeg\", \"eeg\", \"stim\"])\n",
    "    raw = mne.io.RawArray(combined, info)\n",
    "    raw.set_montage(\"standard_1020\")\n",
    "\n",
    "    #preliminary data analyzis: (fancy term for plotting it and looking at it). Task: review data and select a consistently bad channel for exclusion\n",
    "    print(\"Task: review data and select a consistently bad channel for exclusion.\")\n",
    "    \n",
    "    raw.plot(title=fnames[fnameIndex] + \", Task: review data and select consistently bad channels\", duration=1)\n",
    "    raw.compute_psd().plot()\n",
    "    plt.title(fnames[fnameIndex])\n",
    "    plt.show()\n",
    "    raws.append((raw, fnames[fnameIndex]))"
   ]
  },
  {
   "cell_type": "code",
   "execution_count": 13,
   "metadata": {},
   "outputs": [
    {
     "name": "stdout",
     "output_type": "stream",
     "text": [
      "Filtering raw data in 1 contiguous segment\n",
      "Setting up band-pass filter from 0.1 - 50 Hz\n",
      "\n",
      "IIR filter parameters\n",
      "---------------------\n",
      "Butterworth bandpass zero-phase (two-pass forward and reverse) non-causal filter:\n",
      "- Filter order 16 (effective, after forward-backward)\n",
      "- Cutoffs at 0.10, 50.00 Hz: -6.02, -6.02 dB\n",
      "\n",
      "Setting up band-stop filter\n",
      "\n",
      "FIR filter parameters\n",
      "---------------------\n",
      "Designing a one-pass, zero-phase, non-causal bandstop filter:\n",
      "- Windowed time-domain design (firwin) method\n",
      "- Hamming window with 0.0194 passband ripple and 53 dB stopband attenuation\n",
      "- Lower transition bandwidth: 0.50 Hz\n",
      "- Upper transition bandwidth: 0.50 Hz\n",
      "- Filter length: 1651 samples (6.604 sec)\n",
      "\n",
      "20 events found\n",
      "Event IDs: [1 2]\n",
      "Not setting metadata\n",
      "10 matching events found\n",
      "Setting baseline interval to [-10.0, 0.0] sec\n",
      "Applying baseline correction (mode: mean)\n",
      "0 projection items activated\n",
      "Using data from preloaded Raw for 10 events and 17501 original time points ...\n",
      "0 bad epochs dropped\n",
      "    Using multitaper spectrum estimation with 7 DPSS windows\n",
      "Averaging across epochs...\n",
      "Dropped 0 epochs: \n",
      "The following epochs were marked as bad and are dropped:\n",
      "[]\n",
      "Channels marked as bad:\n",
      "['C4', 'F8', 'F7']\n"
     ]
    }
   ],
   "source": [
    "epochs = []\n",
    "for rawpack in raws: \n",
    "    raw = rawpack[0]\n",
    "    fname = rawpack[1]\n",
    "    low_cut = 0.1\n",
    "    high_cut = 50\n",
    "    filtered_data = raw.copy().filter(low_cut,high_cut,method='iir')\n",
    "    notch_freqs = [ 50, 100]\n",
    "    filtered_data = filtered_data.notch_filter(freqs=notch_freqs, filter_length='auto', method='fir' ,notch_widths=1 , picks=\"eeg\")\n",
    "\n",
    "    #get events    \n",
    "    events = mne.find_events(filtered_data, stim_channel=\"stim\")\n",
    "    #events: 1: start rest, 2: start assr, 3: artifact\n",
    "    #setup values above which you reject (peak to peak)\n",
    "    reject_criteria = dict(eeg=200e-6)\n",
    "\n",
    "    #set flat criteria (epochs where nothing happens really (min peak to peak))\n",
    "    flat_criteria = dict(eeg=1e-6)\n",
    "\n",
    "    #make epochs\n",
    "    stimEpochs = mne.Epochs(filtered_data, events, event_id=2, tmin=-10, tmax=60, baseline=(None,0), preload=True, reject=reject_criteria, flat=flat_criteria)\n",
    "    stimEpochs.plot_drop_log()\n",
    "    epochs.append((stimEpochs, fnames[fnameIndex]))\n",
    "\n",
    "    stimEpochs.plot(title=fname+\"filtered\")\n",
    "    stimEpochs.compute_psd().plot()\n",
    "    plt.title(fname)\n",
    "    plt.show()"
   ]
  },
  {
   "cell_type": "code",
   "execution_count": 49,
   "metadata": {},
   "outputs": [],
   "source": [
    "#filter_params = mne.filter.create_filter(raw.get_data(),raw.info['sfreq'],l_freq=0.1,h_freq=50,method='iir')\n",
    "#mne.viz.plot_filter(filter_params,raw.info['sfreq'],flim=(0.01,raw.info['sfreq']))"
   ]
  },
  {
   "cell_type": "code",
   "execution_count": null,
   "metadata": {},
   "outputs": [],
   "source": []
  }
 ],
 "metadata": {
  "kernelspec": {
   "display_name": "Python 3 (Spyder)",
   "language": "python3",
   "name": "python3"
  },
  "language_info": {
   "codemirror_mode": {
    "name": "ipython",
    "version": 3
   },
   "file_extension": ".py",
   "mimetype": "text/x-python",
   "name": "python",
   "nbconvert_exporter": "python",
   "pygments_lexer": "ipython3",
   "version": "3.9.6"
  }
 },
 "nbformat": 4,
 "nbformat_minor": 4
}
