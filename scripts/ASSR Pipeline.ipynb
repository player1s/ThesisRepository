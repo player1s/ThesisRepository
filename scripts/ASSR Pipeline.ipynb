{
  "cells": [
    {
      "cell_type": "code",
      "execution_count": 11,
      "metadata": {
        "collapsed": false
      },
      "outputs": [
        {
          "name": "stdout",
          "output_type": "stream",
          "text": [
            "c:\\mindenJoSHasztalan\\UniversityAndStuff\\DTU\\Semester 6\\Thesis\\External Software\\MNE\\Tutorial\n",
            "uniques [0. 1. 2.]\n",
            "Number of nonzero elements: 20\n",
            "Indices of nonzero elements: [  4.748  14.668  74.84   84.752 144.924 154.84  215.004 224.92  285.084\n",
            " 295.008 355.184 365.092 425.26  435.172 495.348 505.264 565.42  575.344\n",
            " 635.508 645.416]\n",
            "Creating RawArray with float64 data, n_channels=9, n_times=183600\n",
            "    Range : 0 ... 183599 =      0.000 ...   734.396 secs\n",
            "Ready.\n",
            "Task: review data and select a consistently bad channel for exclusion.\n",
            "Effective window size : 1.024 (s)\n"
          ]
        },
        {
          "name": "stdout",
          "output_type": "stream",
          "text": [
            "Channels marked as bad:\n",
            "['T4', 'T3', 'T5']\n"
          ]
        }
      ],
      "source": [
        "%matplotlib qt\n",
        "import pyxdf\n",
        "import mne\n",
        "import numpy as np\n",
        "from mne.datasets import misc\n",
        "import os\n",
        "import matplotlib.pyplot as plt\n",
        "import matplotlib\n",
        "import time\n",
        "print(os.getcwd())\n",
        "\n",
        "fnames = [\"sub-ElpidaShield_ses-S001_task-DefaultASSR3_acq-UltracortexLayout1_run-001_eeg.xdf\"]\n",
        "raws = []\n",
        "for fnameIndex in range(len(fnames)): \n",
        "    streams, header = pyxdf.load_xdf(fnames[fnameIndex])\n",
        "    # get sampling rate\n",
        "    sfreq = float(streams[1][\"info\"][\"nominal_srate\"][0])\n",
        "\n",
        "    # get data\n",
        "    data = streams[1][\"time_series\"].T\n",
        "    dataTimestamps = streams[1][\"time_stamps\"].T\n",
        "    # get markers\n",
        "    markers = streams[0][\"time_series\"].T\n",
        "    markerTimestamps = streams[0][\"time_stamps\"].T\n",
        "\n",
        "    #in case of there is a switch between stim channel and data channels\n",
        "    if  data.shape[0] != 8:\n",
        "        data = streams[0][\"time_series\"].T\n",
        "        dataTimestamps = streams[0][\"time_stamps\"].T\n",
        "        sfreq = float(streams[0][\"info\"][\"nominal_srate\"][0])\n",
        "        markers = streams[1][\"time_series\"].T\n",
        "        markerTimestamps = streams[1][\"time_stamps\"].T\n",
        "        assert data.shape[0] == 8,  fnames[fnameIndex] + \" has different channel amounts\" # check that we have what we think we have (8 eeg channels)\n",
        "\n",
        "    \n",
        "\n",
        "    # get together the event channel with the data, make a \"stim 014\" type channel as annotation: time, duration, event type \n",
        "    # add markers: What needs to be done: we have markers as several events, and their timestamp. then, we have the data\n",
        "    # and their timestamps, to the raw object we should add one more channel, initially full of zeros with the length of the measurement\n",
        "    \n",
        "    \n",
        "    # This is because microvolts are being measured, but mne plot expects values in volts.\n",
        "    markers = markers[0]\n",
        "    data *= 1e-6 # uV -> V and preamp gain. IDK what will preamp gain do. (multiply / divide by gain? 24?)\n",
        "\n",
        "    markerArr = np.zeros_like(data[0])\n",
        "    \n",
        "    for markerid in range(len(markers)):\n",
        "        absolute_differences = np.abs(dataTimestamps - markerTimestamps[markerid])\n",
        "        closest_index = np.argmin(absolute_differences)\n",
        "        markerArr[closest_index] = markers[markerid]\n",
        "\n",
        "    # TEST: this gives the amount of events, and also their index. divided by the sampling freq, you should see the time differences of\n",
        "    #each part of the experiment. \n",
        "    nonzero_indices = np.nonzero(markerArr)\n",
        "    num_nonzero = len(nonzero_indices[0])\n",
        "    print(\"uniques\", np.unique(markerArr))\n",
        "    print(\"Number of nonzero elements:\", num_nonzero)\n",
        "    print(\"Indices of nonzero elements:\", nonzero_indices[0] / sfreq)\n",
        "\n",
        "    #add marker arr to data\n",
        "    combined = np.c_[data.T,markerArr].T\n",
        "\n",
        "    # create info object set channel names\n",
        "    info = mne.create_info([\"T6\", \"T4\", \"F8\", \"C4\", \"C3\", \"T5\", \"T3\", \"F7\", \"stim\"], sfreq, [\"eeg\", \"eeg\",\"eeg\", \"eeg\", \"eeg\", \"eeg\", \"eeg\", \"eeg\", \"stim\"])\n",
        "    raw = mne.io.RawArray(combined, info)\n",
        "    raw.set_montage(\"standard_1020\")\n",
        "\n",
        "    #preliminary data analyzis: (fancy term for plotting it and looking at it). Task: review data and select a consistently bad channel for exclusion\n",
        "    print(\"Task: review data and select a consistently bad channel for exclusion.\")\n",
        "    \n",
        "    raw.plot(title=fnames[fnameIndex] + \", Task: review data and select consistently bad channels\", duration=1)\n",
        "    raw.compute_psd().plot()\n",
        "    plt.title(fnames[fnameIndex])\n",
        "    plt.show()\n",
        "    raws.append((raw, fnames[fnameIndex]))"
      ]
    },
    {
      "cell_type": "code",
      "execution_count": 18,
      "metadata": {},
      "outputs": [
        {
          "name": "stdout",
          "output_type": "stream",
          "text": [
            "Filtering raw data in 1 contiguous segment\n",
            "Setting up band-pass filter from 0.1 - 50 Hz\n",
            "\n",
            "IIR filter parameters\n",
            "---------------------\n",
            "Butterworth bandpass zero-phase (two-pass forward and reverse) non-causal filter:\n",
            "- Filter order 16 (effective, after forward-backward)\n",
            "- Cutoffs at 0.10, 50.00 Hz: -6.02, -6.02 dB\n",
            "\n"
          ]
        },
        {
          "name": "stdout",
          "output_type": "stream",
          "text": [
            "Setting up band-stop filter\n",
            "\n",
            "FIR filter parameters\n",
            "---------------------\n",
            "Designing a one-pass, zero-phase, non-causal bandstop filter:\n",
            "- Windowed time-domain design (firwin) method\n",
            "- Hamming window with 0.0194 passband ripple and 53 dB stopband attenuation\n",
            "- Lower transition bandwidth: 0.50 Hz\n",
            "- Upper transition bandwidth: 0.50 Hz\n",
            "- Filter length: 1651 samples (6.604 sec)\n",
            "\n",
            "20 events found\n"
          ]
        },
        {
          "name": "stderr",
          "output_type": "stream",
          "text": [
            "[Parallel(n_jobs=1)]: Using backend SequentialBackend with 1 concurrent workers.\n",
            "[Parallel(n_jobs=1)]: Done   1 out of   1 | elapsed:    0.0s remaining:    0.0s\n",
            "[Parallel(n_jobs=1)]: Done   2 out of   2 | elapsed:    0.0s remaining:    0.0s\n",
            "[Parallel(n_jobs=1)]: Done   3 out of   3 | elapsed:    0.0s remaining:    0.0s\n",
            "[Parallel(n_jobs=1)]: Done   4 out of   4 | elapsed:    0.0s remaining:    0.0s\n",
            "[Parallel(n_jobs=1)]: Done   8 out of   8 | elapsed:    0.0s finished\n"
          ]
        },
        {
          "name": "stdout",
          "output_type": "stream",
          "text": [
            "Event IDs: [1 2]\n",
            "Not setting metadata\n",
            "10 matching events found\n",
            "Applying baseline correction (mode: mean)\n",
            "0 projection items activated\n",
            "Using data from preloaded Raw for 10 events and 17501 original time points ...\n",
            "    Rejecting  epoch based on EEG : ['T6', 'C4', 'C3', 'F7']\n",
            "1 bad epochs dropped\n",
            "    Using multitaper spectrum estimation with 7 DPSS windows\n",
            "Averaging across epochs...\n"
          ]
        }
      ],
      "source": [
        "epochs = []\n",
        "for rawpack in raws: \n",
        "    raw = rawpack[0]\n",
        "    fname = rawpack[1]\n",
        "    low_cut = 0.1\n",
        "    high_cut = 50\n",
        "    filtered_data = raw.copy().filter(low_cut,high_cut,method='iir')\n",
        "    notch_freqs = [50, 100]\n",
        "    filtered_data = filtered_data.notch_filter(freqs=notch_freqs, filter_length='auto', method='fir', notch_widths=4, picks=\"eeg\")\n",
        "\n",
        "    #get events    \n",
        "    events = mne.find_events(filtered_data, stim_channel=\"stim\")\n",
        "    #events: 1: start rest, 2: start assr, 3: artifact\n",
        "    #setup values above which you reject (peak to peak)\n",
        "    reject_criteria = dict(eeg=200e-6)\n",
        "\n",
        "    #set flat criteria (epochs where nothing happens really (min peak to peak))\n",
        "    flat_criteria = dict(eeg=1e-6)\n",
        "\n",
        "    #make epochs\n",
        "    stimEpochs = mne.Epochs(filtered_data, events, event_id=2, tmin=-10, tmax=60, baseline=(-10, 0), preload=True, reject=reject_criteria, flat=flat_criteria)\n",
        "    stimEpochs.plot_drop_log()\n",
        "    epochs.append((stimEpochs, fnames[fnameIndex]))\n",
        "\n",
        "    stimEpochs.plot(title=fname+\"filtered\")\n",
        "    stimEpochs.compute_psd().plot()\n",
        "    plt.title(fname)\n",
        "    plt.show()"
      ]
    },
    {
      "cell_type": "code",
      "execution_count": null,
      "metadata": {},
      "outputs": [],
      "source": []
    }
  ],
  "metadata": {
    "kernelspec": {
      "display_name": "Python 3",
      "language": "python",
      "name": "python3"
    },
    "language_info": {
      "codemirror_mode": {
        "name": "ipython",
        "version": 3
      },
      "file_extension": ".py",
      "mimetype": "text/x-python",
      "name": "python",
      "nbconvert_exporter": "python",
      "pygments_lexer": "ipython3",
      "version": "3.9.2"
    }
  },
  "nbformat": 4,
  "nbformat_minor": 0
}
